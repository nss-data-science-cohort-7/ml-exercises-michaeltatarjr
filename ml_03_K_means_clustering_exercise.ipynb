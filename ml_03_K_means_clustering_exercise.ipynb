{
 "cells": [
  {
   "cell_type": "markdown",
   "id": "22b55a63",
   "metadata": {},
   "source": [
    "## Machine Learning Exercise 3 - K-Means Clustering\n",
    "\n",
    "For this exercise, you'll be working with a cleaned up version of the full WeGo data, meaning that you have all rows for each trip.\n",
    "\n",
    "Your goal in this exercise is to find groupings of similar time points (as identified by TIME_POINT_ABBR).\n",
    "\n",
    "1. Read in the csv into a DataFrame named  `wego`. First, we need some features to compare time points. One strategy for this is to try and create some features that measure characteristics about the distribution of, for example, adherence values. Use the following code to find the 0.5, 0.25,0.5, 0.75, and 0.95 quantiles of ADHERENCE values for each stop.\n",
    "\n",
    "```\n",
    "time_point_quantiles = (\n",
    "    wego\n",
    "    .groupby('TIME_POINT_ABBR')\n",
    "    ['ADHERENCE']\n",
    "    .quantile([0.05, 0.25, 0.5, 0.75, 0.95])\n",
    "    .reset_index()\n",
    "    .rename(columns = {'level_1': 'quantile'})\n",
    "    .pivot_table(index = 'TIME_POINT_ABBR', \n",
    "                 columns = 'quantile', \n",
    "                 values = 'ADHERENCE')\n",
    ")\n",
    "```\n",
    "\n",
    "What is each step doing in this code?\n",
    "\n",
    "2. When performing k-means clustering, we usually want to standardize our features so that we can compare across multiple dimensions. This means that we are going to convert our original values into z-scores. Create a Pipeline object whose first step employs a StandardScaler to standarize the features and whose second step performs KMeans clustering with 2 clusters.\n",
    "\n",
    "3. How many points end up in each cluster? How do the points in each cluster compare?\n",
    "\n",
    "4. Try a range of different values for the number of clusters and choose one which you think is appropriate. Inspect the results and compare the resulting clusters.\n",
    "\n",
    "**Bonus:** Perform clustering on operators (identified by the OPERATOR variable). You'll need to create some featues on which to compare operators. Think about what types of aggregate values you could calculate which might be useful for this task."
   ]
  },
  {
   "cell_type": "code",
   "execution_count": 1,
   "id": "1ef539e0",
   "metadata": {},
   "outputs": [],
   "source": [
    "import pandas as pd\n",
    "import numpy as np\n",
    "from sklearn.cluster import KMeans\n",
    "from sklearn.pipeline import Pipeline\n",
    "from sklearn.preprocessing import StandardScaler\n",
    "import matplotlib.pyplot as plt\n",
    "import seaborn as sns"
   ]
  },
  {
   "cell_type": "code",
   "execution_count": 2,
   "id": "5a1350a1",
   "metadata": {},
   "outputs": [
    {
     "data": {
      "text/html": [
       "<div>\n",
       "<style scoped>\n",
       "    .dataframe tbody tr th:only-of-type {\n",
       "        vertical-align: middle;\n",
       "    }\n",
       "\n",
       "    .dataframe tbody tr th {\n",
       "        vertical-align: top;\n",
       "    }\n",
       "\n",
       "    .dataframe thead th {\n",
       "        text-align: right;\n",
       "    }\n",
       "</style>\n",
       "<table border=\"1\" class=\"dataframe\">\n",
       "  <thead>\n",
       "    <tr style=\"text-align: right;\">\n",
       "      <th></th>\n",
       "      <th>CALENDAR_ID</th>\n",
       "      <th>SERVICE_ABBR</th>\n",
       "      <th>ADHERENCE_ID</th>\n",
       "      <th>DATE</th>\n",
       "      <th>ROUTE_ABBR</th>\n",
       "      <th>BLOCK_ABBR</th>\n",
       "      <th>OPERATOR</th>\n",
       "      <th>TRIP_ID</th>\n",
       "      <th>OVERLOAD_ID</th>\n",
       "      <th>ROUTE_DIRECTION_NAME</th>\n",
       "      <th>...</th>\n",
       "      <th>ADJUSTED_LATE_COUNT</th>\n",
       "      <th>ADJUSTED_ONTIME_COUNT</th>\n",
       "      <th>STOP_CANCELLED</th>\n",
       "      <th>PREV_SCHED_STOP_CANCELLED</th>\n",
       "      <th>IS_RELIEF</th>\n",
       "      <th>BLOCK_STOP_ORDER</th>\n",
       "      <th>DWELL_IN_MINS</th>\n",
       "      <th>NextDay_Scheduled</th>\n",
       "      <th>NextDay_Actual_Arrival</th>\n",
       "      <th>NextDay_Actual_Departure</th>\n",
       "    </tr>\n",
       "  </thead>\n",
       "  <tbody>\n",
       "    <tr>\n",
       "      <th>0</th>\n",
       "      <td>120230801</td>\n",
       "      <td>1</td>\n",
       "      <td>99457890</td>\n",
       "      <td>2023-08-01</td>\n",
       "      <td>22</td>\n",
       "      <td>2200</td>\n",
       "      <td>1040</td>\n",
       "      <td>345104</td>\n",
       "      <td>0</td>\n",
       "      <td>TO DOWNTOWN</td>\n",
       "      <td>...</td>\n",
       "      <td>0</td>\n",
       "      <td>1</td>\n",
       "      <td>0</td>\n",
       "      <td>0.0</td>\n",
       "      <td>0</td>\n",
       "      <td>2</td>\n",
       "      <td>6.5</td>\n",
       "      <td>0</td>\n",
       "      <td>0</td>\n",
       "      <td>0</td>\n",
       "    </tr>\n",
       "    <tr>\n",
       "      <th>1</th>\n",
       "      <td>120230801</td>\n",
       "      <td>1</td>\n",
       "      <td>99457891</td>\n",
       "      <td>2023-08-01</td>\n",
       "      <td>22</td>\n",
       "      <td>2200</td>\n",
       "      <td>1040</td>\n",
       "      <td>345104</td>\n",
       "      <td>0</td>\n",
       "      <td>TO DOWNTOWN</td>\n",
       "      <td>...</td>\n",
       "      <td>0</td>\n",
       "      <td>1</td>\n",
       "      <td>0</td>\n",
       "      <td>0.0</td>\n",
       "      <td>0</td>\n",
       "      <td>9</td>\n",
       "      <td>0.0</td>\n",
       "      <td>0</td>\n",
       "      <td>0</td>\n",
       "      <td>0</td>\n",
       "    </tr>\n",
       "  </tbody>\n",
       "</table>\n",
       "<p>2 rows × 33 columns</p>\n",
       "</div>"
      ],
      "text/plain": [
       "   CALENDAR_ID  SERVICE_ABBR  ADHERENCE_ID        DATE  ROUTE_ABBR  \\\n",
       "0    120230801             1      99457890  2023-08-01          22   \n",
       "1    120230801             1      99457891  2023-08-01          22   \n",
       "\n",
       "   BLOCK_ABBR  OPERATOR  TRIP_ID  OVERLOAD_ID ROUTE_DIRECTION_NAME  ...  \\\n",
       "0        2200      1040   345104            0          TO DOWNTOWN  ...   \n",
       "1        2200      1040   345104            0          TO DOWNTOWN  ...   \n",
       "\n",
       "  ADJUSTED_LATE_COUNT  ADJUSTED_ONTIME_COUNT  STOP_CANCELLED  \\\n",
       "0                   0                      1               0   \n",
       "1                   0                      1               0   \n",
       "\n",
       "   PREV_SCHED_STOP_CANCELLED  IS_RELIEF BLOCK_STOP_ORDER DWELL_IN_MINS  \\\n",
       "0                        0.0          0                2           6.5   \n",
       "1                        0.0          0                9           0.0   \n",
       "\n",
       "  NextDay_Scheduled  NextDay_Actual_Arrival  NextDay_Actual_Departure  \n",
       "0                 0                       0                         0  \n",
       "1                 0                       0                         0  \n",
       "\n",
       "[2 rows x 33 columns]"
      ]
     },
     "execution_count": 2,
     "metadata": {},
     "output_type": "execute_result"
    }
   ],
   "source": [
    "# Load in the dataset. Since dataset is already cleaned we probably don't need to remove missing values.\n",
    "\n",
    "wego = pd.read_csv('../data/headway_data_clean.csv')\n",
    "\n",
    "wego.head(2)"
   ]
  },
  {
   "cell_type": "code",
   "execution_count": 3,
   "id": "3af0946b",
   "metadata": {},
   "outputs": [],
   "source": [
    "#Read in the csv into a DataFrame named wego. First, we need some features to compare time points. \n",
    "#One strategy for this is to try and create some features that measure characteristics about the distribution \n",
    "#of, for example, adherence values. Use the following code to find the 0.5, 0.25,0.5, 0.75, and 0.95 quantiles\n",
    "#of ADHERENCE values for each stop.\n",
    "time_point_quantiles = (\n",
    "    wego\n",
    "    .groupby('TIME_POINT_ABBR')\n",
    "    ['ADHERENCE']\n",
    "    .quantile([0.05, 0.25, 0.5, 0.75, 0.95])\n",
    "    .reset_index()\n",
    "    .rename(columns = {'level_1': 'quantile'})\n",
    "    .pivot_table(index = 'TIME_POINT_ABBR', \n",
    "                 columns = 'quantile', \n",
    "                 values = 'ADHERENCE')\n",
    ")\n",
    "#What is each step doing in this code?...See below"
   ]
  },
  {
   "cell_type": "markdown",
   "id": "cfd2fab9",
   "metadata": {},
   "source": [
    "time_point_quantiles = (                       #building quantiles on adherence on the .05, .25, .5, .75, .95\n",
    "    wego                     \n",
    "    .groupby('TIME_POINT_ABBR')  #groupby TIME_POINT_ABBR\n",
    "    ['ADHERENCE']\n",
    "    .quantile([0.05, 0.25, 0.5, 0.75, 0.95])   #make the quantiles\n",
    "    .reset_index()                             #reset index\n",
    "    .rename(columns = {'level_1': 'quantile'}) #rename level_1 as quantile\n",
    "    .pivot_table(index = 'TIME_POINT_ABBR',    #pivot table on time_point_abbr\n",
    "                 columns = 'quantile', \n",
    "                 values = 'ADHERENCE')\n",
    ")\n"
   ]
  },
  {
   "cell_type": "code",
   "execution_count": 4,
   "id": "b83b4c63",
   "metadata": {},
   "outputs": [
    {
     "data": {
      "text/html": [
       "<div>\n",
       "<style scoped>\n",
       "    .dataframe tbody tr th:only-of-type {\n",
       "        vertical-align: middle;\n",
       "    }\n",
       "\n",
       "    .dataframe tbody tr th {\n",
       "        vertical-align: top;\n",
       "    }\n",
       "\n",
       "    .dataframe thead th {\n",
       "        text-align: right;\n",
       "    }\n",
       "</style>\n",
       "<table border=\"1\" class=\"dataframe\">\n",
       "  <thead>\n",
       "    <tr style=\"text-align: right;\">\n",
       "      <th>quantile</th>\n",
       "      <th>0.05</th>\n",
       "      <th>0.25</th>\n",
       "      <th>0.50</th>\n",
       "      <th>0.75</th>\n",
       "      <th>0.95</th>\n",
       "    </tr>\n",
       "    <tr>\n",
       "      <th>TIME_POINT_ABBR</th>\n",
       "      <th></th>\n",
       "      <th></th>\n",
       "      <th></th>\n",
       "      <th></th>\n",
       "      <th></th>\n",
       "    </tr>\n",
       "  </thead>\n",
       "  <tbody>\n",
       "    <tr>\n",
       "      <th>21BK</th>\n",
       "      <td>-14.221666</td>\n",
       "      <td>-5.850000</td>\n",
       "      <td>-2.966666</td>\n",
       "      <td>-0.883333</td>\n",
       "      <td>0.733333</td>\n",
       "    </tr>\n",
       "    <tr>\n",
       "      <th>25ACLARK</th>\n",
       "      <td>-3.550000</td>\n",
       "      <td>-0.608333</td>\n",
       "      <td>0.850000</td>\n",
       "      <td>4.475000</td>\n",
       "      <td>6.500000</td>\n",
       "    </tr>\n",
       "    <tr>\n",
       "      <th>28&amp;CHARL</th>\n",
       "      <td>-9.254167</td>\n",
       "      <td>-4.000000</td>\n",
       "      <td>-2.016666</td>\n",
       "      <td>-0.550000</td>\n",
       "      <td>0.666666</td>\n",
       "    </tr>\n",
       "    <tr>\n",
       "      <th>ARTS</th>\n",
       "      <td>-11.368333</td>\n",
       "      <td>-6.458333</td>\n",
       "      <td>-3.316666</td>\n",
       "      <td>-2.200000</td>\n",
       "      <td>0.950000</td>\n",
       "    </tr>\n",
       "    <tr>\n",
       "      <th>BRCJ</th>\n",
       "      <td>-13.336666</td>\n",
       "      <td>-5.083333</td>\n",
       "      <td>-2.433333</td>\n",
       "      <td>-0.850000</td>\n",
       "      <td>0.733333</td>\n",
       "    </tr>\n",
       "    <tr>\n",
       "      <th>...</th>\n",
       "      <td>...</td>\n",
       "      <td>...</td>\n",
       "      <td>...</td>\n",
       "      <td>...</td>\n",
       "      <td>...</td>\n",
       "    </tr>\n",
       "    <tr>\n",
       "      <th>WE23</th>\n",
       "      <td>-12.200000</td>\n",
       "      <td>-5.683333</td>\n",
       "      <td>-2.816666</td>\n",
       "      <td>-0.824999</td>\n",
       "      <td>0.866666</td>\n",
       "    </tr>\n",
       "    <tr>\n",
       "      <th>WE31</th>\n",
       "      <td>-12.486666</td>\n",
       "      <td>-5.616666</td>\n",
       "      <td>-2.750000</td>\n",
       "      <td>-0.733333</td>\n",
       "      <td>0.750000</td>\n",
       "    </tr>\n",
       "    <tr>\n",
       "      <th>WHBG</th>\n",
       "      <td>-12.505833</td>\n",
       "      <td>-4.900000</td>\n",
       "      <td>-2.416666</td>\n",
       "      <td>-0.666666</td>\n",
       "      <td>0.966666</td>\n",
       "    </tr>\n",
       "    <tr>\n",
       "      <th>WMRT</th>\n",
       "      <td>-15.310833</td>\n",
       "      <td>-4.500000</td>\n",
       "      <td>-1.666666</td>\n",
       "      <td>-0.362499</td>\n",
       "      <td>0.744167</td>\n",
       "    </tr>\n",
       "    <tr>\n",
       "      <th>YGKG</th>\n",
       "      <td>-12.083333</td>\n",
       "      <td>-5.716666</td>\n",
       "      <td>-2.333333</td>\n",
       "      <td>-0.383333</td>\n",
       "      <td>1.283333</td>\n",
       "    </tr>\n",
       "  </tbody>\n",
       "</table>\n",
       "<p>61 rows × 5 columns</p>\n",
       "</div>"
      ],
      "text/plain": [
       "quantile              0.05      0.25      0.50      0.75      0.95\n",
       "TIME_POINT_ABBR                                                   \n",
       "21BK            -14.221666 -5.850000 -2.966666 -0.883333  0.733333\n",
       "25ACLARK         -3.550000 -0.608333  0.850000  4.475000  6.500000\n",
       "28&CHARL         -9.254167 -4.000000 -2.016666 -0.550000  0.666666\n",
       "ARTS            -11.368333 -6.458333 -3.316666 -2.200000  0.950000\n",
       "BRCJ            -13.336666 -5.083333 -2.433333 -0.850000  0.733333\n",
       "...                    ...       ...       ...       ...       ...\n",
       "WE23            -12.200000 -5.683333 -2.816666 -0.824999  0.866666\n",
       "WE31            -12.486666 -5.616666 -2.750000 -0.733333  0.750000\n",
       "WHBG            -12.505833 -4.900000 -2.416666 -0.666666  0.966666\n",
       "WMRT            -15.310833 -4.500000 -1.666666 -0.362499  0.744167\n",
       "YGKG            -12.083333 -5.716666 -2.333333 -0.383333  1.283333\n",
       "\n",
       "[61 rows x 5 columns]"
      ]
     },
     "execution_count": 4,
     "metadata": {},
     "output_type": "execute_result"
    }
   ],
   "source": [
    "time_point_quantiles"
   ]
  },
  {
   "cell_type": "markdown",
   "id": "30fda8af",
   "metadata": {},
   "source": [
    "2. When performing k-means clustering, we usually want to standardize our features so that we can compare across multiple dimensions. This means that we are going to convert our original values into z-scores. Create a Pipeline object whose first step employs a StandardScaler to standarize the features and whose second step performs KMeans clustering with 2 clusters."
   ]
  },
  {
   "cell_type": "code",
   "execution_count": 5,
   "id": "468d77f5",
   "metadata": {
    "scrolled": true
   },
   "outputs": [
    {
     "name": "stderr",
     "output_type": "stream",
     "text": [
      "C:\\Users\\micha\\anaconda3\\Lib\\site-packages\\sklearn\\cluster\\_kmeans.py:1440: UserWarning: KMeans is known to have a memory leak on Windows with MKL, when there are less chunks than available threads. You can avoid it by setting the environment variable OMP_NUM_THREADS=1.\n",
      "  warnings.warn(\n"
     ]
    },
    {
     "data": {
      "text/html": [
       "<style>#sk-container-id-1 {color: black;}#sk-container-id-1 pre{padding: 0;}#sk-container-id-1 div.sk-toggleable {background-color: white;}#sk-container-id-1 label.sk-toggleable__label {cursor: pointer;display: block;width: 100%;margin-bottom: 0;padding: 0.3em;box-sizing: border-box;text-align: center;}#sk-container-id-1 label.sk-toggleable__label-arrow:before {content: \"▸\";float: left;margin-right: 0.25em;color: #696969;}#sk-container-id-1 label.sk-toggleable__label-arrow:hover:before {color: black;}#sk-container-id-1 div.sk-estimator:hover label.sk-toggleable__label-arrow:before {color: black;}#sk-container-id-1 div.sk-toggleable__content {max-height: 0;max-width: 0;overflow: hidden;text-align: left;background-color: #f0f8ff;}#sk-container-id-1 div.sk-toggleable__content pre {margin: 0.2em;color: black;border-radius: 0.25em;background-color: #f0f8ff;}#sk-container-id-1 input.sk-toggleable__control:checked~div.sk-toggleable__content {max-height: 200px;max-width: 100%;overflow: auto;}#sk-container-id-1 input.sk-toggleable__control:checked~label.sk-toggleable__label-arrow:before {content: \"▾\";}#sk-container-id-1 div.sk-estimator input.sk-toggleable__control:checked~label.sk-toggleable__label {background-color: #d4ebff;}#sk-container-id-1 div.sk-label input.sk-toggleable__control:checked~label.sk-toggleable__label {background-color: #d4ebff;}#sk-container-id-1 input.sk-hidden--visually {border: 0;clip: rect(1px 1px 1px 1px);clip: rect(1px, 1px, 1px, 1px);height: 1px;margin: -1px;overflow: hidden;padding: 0;position: absolute;width: 1px;}#sk-container-id-1 div.sk-estimator {font-family: monospace;background-color: #f0f8ff;border: 1px dotted black;border-radius: 0.25em;box-sizing: border-box;margin-bottom: 0.5em;}#sk-container-id-1 div.sk-estimator:hover {background-color: #d4ebff;}#sk-container-id-1 div.sk-parallel-item::after {content: \"\";width: 100%;border-bottom: 1px solid gray;flex-grow: 1;}#sk-container-id-1 div.sk-label:hover label.sk-toggleable__label {background-color: #d4ebff;}#sk-container-id-1 div.sk-serial::before {content: \"\";position: absolute;border-left: 1px solid gray;box-sizing: border-box;top: 0;bottom: 0;left: 50%;z-index: 0;}#sk-container-id-1 div.sk-serial {display: flex;flex-direction: column;align-items: center;background-color: white;padding-right: 0.2em;padding-left: 0.2em;position: relative;}#sk-container-id-1 div.sk-item {position: relative;z-index: 1;}#sk-container-id-1 div.sk-parallel {display: flex;align-items: stretch;justify-content: center;background-color: white;position: relative;}#sk-container-id-1 div.sk-item::before, #sk-container-id-1 div.sk-parallel-item::before {content: \"\";position: absolute;border-left: 1px solid gray;box-sizing: border-box;top: 0;bottom: 0;left: 50%;z-index: -1;}#sk-container-id-1 div.sk-parallel-item {display: flex;flex-direction: column;z-index: 1;position: relative;background-color: white;}#sk-container-id-1 div.sk-parallel-item:first-child::after {align-self: flex-end;width: 50%;}#sk-container-id-1 div.sk-parallel-item:last-child::after {align-self: flex-start;width: 50%;}#sk-container-id-1 div.sk-parallel-item:only-child::after {width: 0;}#sk-container-id-1 div.sk-dashed-wrapped {border: 1px dashed gray;margin: 0 0.4em 0.5em 0.4em;box-sizing: border-box;padding-bottom: 0.4em;background-color: white;}#sk-container-id-1 div.sk-label label {font-family: monospace;font-weight: bold;display: inline-block;line-height: 1.2em;}#sk-container-id-1 div.sk-label-container {text-align: center;}#sk-container-id-1 div.sk-container {/* jupyter's `normalize.less` sets `[hidden] { display: none; }` but bootstrap.min.css set `[hidden] { display: none !important; }` so we also need the `!important` here to be able to override the default hidden behavior on the sphinx rendered scikit-learn.org. See: https://github.com/scikit-learn/scikit-learn/issues/21755 */display: inline-block !important;position: relative;}#sk-container-id-1 div.sk-text-repr-fallback {display: none;}</style><div id=\"sk-container-id-1\" class=\"sk-top-container\"><div class=\"sk-text-repr-fallback\"><pre>Pipeline(steps=[(&#x27;scaler&#x27;, StandardScaler()),\n",
       "                (&#x27;cluster&#x27;, KMeans(n_clusters=2, n_init=&#x27;auto&#x27;))])</pre><b>In a Jupyter environment, please rerun this cell to show the HTML representation or trust the notebook. <br />On GitHub, the HTML representation is unable to render, please try loading this page with nbviewer.org.</b></div><div class=\"sk-container\" hidden><div class=\"sk-item sk-dashed-wrapped\"><div class=\"sk-label-container\"><div class=\"sk-label sk-toggleable\"><input class=\"sk-toggleable__control sk-hidden--visually\" id=\"sk-estimator-id-1\" type=\"checkbox\" ><label for=\"sk-estimator-id-1\" class=\"sk-toggleable__label sk-toggleable__label-arrow\">Pipeline</label><div class=\"sk-toggleable__content\"><pre>Pipeline(steps=[(&#x27;scaler&#x27;, StandardScaler()),\n",
       "                (&#x27;cluster&#x27;, KMeans(n_clusters=2, n_init=&#x27;auto&#x27;))])</pre></div></div></div><div class=\"sk-serial\"><div class=\"sk-item\"><div class=\"sk-estimator sk-toggleable\"><input class=\"sk-toggleable__control sk-hidden--visually\" id=\"sk-estimator-id-2\" type=\"checkbox\" ><label for=\"sk-estimator-id-2\" class=\"sk-toggleable__label sk-toggleable__label-arrow\">StandardScaler</label><div class=\"sk-toggleable__content\"><pre>StandardScaler()</pre></div></div></div><div class=\"sk-item\"><div class=\"sk-estimator sk-toggleable\"><input class=\"sk-toggleable__control sk-hidden--visually\" id=\"sk-estimator-id-3\" type=\"checkbox\" ><label for=\"sk-estimator-id-3\" class=\"sk-toggleable__label sk-toggleable__label-arrow\">KMeans</label><div class=\"sk-toggleable__content\"><pre>KMeans(n_clusters=2, n_init=&#x27;auto&#x27;)</pre></div></div></div></div></div></div></div>"
      ],
      "text/plain": [
       "Pipeline(steps=[('scaler', StandardScaler()),\n",
       "                ('cluster', KMeans(n_clusters=2, n_init='auto'))])"
      ]
     },
     "execution_count": 5,
     "metadata": {},
     "output_type": "execute_result"
    }
   ],
   "source": [
    "n_clusters = 2\n",
    "\n",
    "#assign scaler and kmeans cluster to data\n",
    "kmeans = Pipeline(\n",
    "    steps = [\n",
    "        ('scaler', StandardScaler()),\n",
    "        ('cluster', KMeans(n_clusters = n_clusters, n_init = 'auto'))\n",
    "    ]\n",
    ")\n",
    "#fit data into pipeline\n",
    "kmeans.fit(time_point_quantiles)"
   ]
  },
  {
   "cell_type": "code",
   "execution_count": 6,
   "id": "44f33ab4",
   "metadata": {},
   "outputs": [],
   "source": [
    "#Assign clusters to each data pts\n",
    "#pipeline is the pipeline\n",
    "#.named_steps allows access to the data in the pipeline\n",
    "#.predict, predicts the centroids in the data. In this case time_point_quantiles\n",
    "cluster_labels = kmeans.named_steps['cluster'].predict(time_point_quantiles)"
   ]
  },
  {
   "cell_type": "markdown",
   "id": "52619997",
   "metadata": {},
   "source": [
    "3. How many points end up in each cluster? How do the points in each cluster compare?"
   ]
  },
  {
   "cell_type": "code",
   "execution_count": 7,
   "id": "80c00a68",
   "metadata": {},
   "outputs": [],
   "source": [
    "# Count datapoints\n",
    "cluster_counts = np.bincount(cluster_labels)"
   ]
  },
  {
   "cell_type": "code",
   "execution_count": 8,
   "id": "9138e2ed",
   "metadata": {},
   "outputs": [
    {
     "data": {
      "text/plain": [
       "8"
      ]
     },
     "execution_count": 8,
     "metadata": {},
     "output_type": "execute_result"
    }
   ],
   "source": [
    "cluster_counts[0]"
   ]
  },
  {
   "cell_type": "code",
   "execution_count": 9,
   "id": "2e89379c",
   "metadata": {},
   "outputs": [
    {
     "data": {
      "text/plain": [
       "53"
      ]
     },
     "execution_count": 9,
     "metadata": {},
     "output_type": "execute_result"
    }
   ],
   "source": [
    "cluster_counts[1]"
   ]
  },
  {
   "cell_type": "code",
   "execution_count": 10,
   "id": "be054cc8",
   "metadata": {},
   "outputs": [
    {
     "name": "stdout",
     "output_type": "stream",
     "text": [
      "Cluster 0: 8 points\n",
      "Cluster 1: 53 points\n"
     ]
    }
   ],
   "source": [
    "# if you want it pretty...\n",
    "for cluster_idx, count in enumerate(cluster_counts):\n",
    "    print(f\"Cluster {cluster_idx}: {count} points\")"
   ]
  },
  {
   "cell_type": "markdown",
   "id": "7c8cbc39",
   "metadata": {},
   "source": [
    "4. Try a range of different values for the number of clusters and choose one which you think is appropriate. Inspect the results and compare the resulting clusters."
   ]
  },
  {
   "cell_type": "code",
   "execution_count": 15,
   "id": "d3361ed4",
   "metadata": {},
   "outputs": [
    {
     "name": "stderr",
     "output_type": "stream",
     "text": [
      "C:\\Users\\micha\\anaconda3\\Lib\\site-packages\\sklearn\\cluster\\_kmeans.py:1440: UserWarning: KMeans is known to have a memory leak on Windows with MKL, when there are less chunks than available threads. You can avoid it by setting the environment variable OMP_NUM_THREADS=1.\n",
      "  warnings.warn(\n"
     ]
    }
   ],
   "source": [
    "n_clusters = 3\n",
    "\n",
    "#assign scaler and kmeans cluster to data\n",
    "kmeans2 = Pipeline(\n",
    "    steps = [\n",
    "        ('scaler', StandardScaler()),\n",
    "        ('cluster', KMeans(n_clusters = n_clusters, n_init = 'auto'))\n",
    "    ]\n",
    ")\n",
    "#fit data into pipeline\n",
    "kmeans2.fit(time_point_quantiles)\n",
    "\n",
    "#pass info to pipeline\n",
    "cluster_labels2 = kmeans2.named_steps['cluster'].predict(time_point_quantiles)"
   ]
  },
  {
   "cell_type": "code",
   "execution_count": 16,
   "id": "5c6714c0",
   "metadata": {},
   "outputs": [
    {
     "name": "stdout",
     "output_type": "stream",
     "text": [
      "Cluster 0: 0 points\n",
      "Cluster 1: 4 points\n",
      "Cluster 2: 57 points\n"
     ]
    }
   ],
   "source": [
    "cluster_counts2 = np.bincount(cluster_labels2)\n",
    "\n",
    "for cluster_idx, count in enumerate(cluster_counts2):\n",
    "    print(f\"Cluster {cluster_idx}: {count} points\")\n"
   ]
  },
  {
   "cell_type": "code",
   "execution_count": 17,
   "id": "6401e0dd",
   "metadata": {},
   "outputs": [
    {
     "name": "stderr",
     "output_type": "stream",
     "text": [
      "C:\\Users\\micha\\anaconda3\\Lib\\site-packages\\sklearn\\cluster\\_kmeans.py:1440: UserWarning: KMeans is known to have a memory leak on Windows with MKL, when there are less chunks than available threads. You can avoid it by setting the environment variable OMP_NUM_THREADS=1.\n",
      "  warnings.warn(\n"
     ]
    },
    {
     "data": {
      "text/html": [
       "<style>#sk-container-id-3 {color: black;}#sk-container-id-3 pre{padding: 0;}#sk-container-id-3 div.sk-toggleable {background-color: white;}#sk-container-id-3 label.sk-toggleable__label {cursor: pointer;display: block;width: 100%;margin-bottom: 0;padding: 0.3em;box-sizing: border-box;text-align: center;}#sk-container-id-3 label.sk-toggleable__label-arrow:before {content: \"▸\";float: left;margin-right: 0.25em;color: #696969;}#sk-container-id-3 label.sk-toggleable__label-arrow:hover:before {color: black;}#sk-container-id-3 div.sk-estimator:hover label.sk-toggleable__label-arrow:before {color: black;}#sk-container-id-3 div.sk-toggleable__content {max-height: 0;max-width: 0;overflow: hidden;text-align: left;background-color: #f0f8ff;}#sk-container-id-3 div.sk-toggleable__content pre {margin: 0.2em;color: black;border-radius: 0.25em;background-color: #f0f8ff;}#sk-container-id-3 input.sk-toggleable__control:checked~div.sk-toggleable__content {max-height: 200px;max-width: 100%;overflow: auto;}#sk-container-id-3 input.sk-toggleable__control:checked~label.sk-toggleable__label-arrow:before {content: \"▾\";}#sk-container-id-3 div.sk-estimator input.sk-toggleable__control:checked~label.sk-toggleable__label {background-color: #d4ebff;}#sk-container-id-3 div.sk-label input.sk-toggleable__control:checked~label.sk-toggleable__label {background-color: #d4ebff;}#sk-container-id-3 input.sk-hidden--visually {border: 0;clip: rect(1px 1px 1px 1px);clip: rect(1px, 1px, 1px, 1px);height: 1px;margin: -1px;overflow: hidden;padding: 0;position: absolute;width: 1px;}#sk-container-id-3 div.sk-estimator {font-family: monospace;background-color: #f0f8ff;border: 1px dotted black;border-radius: 0.25em;box-sizing: border-box;margin-bottom: 0.5em;}#sk-container-id-3 div.sk-estimator:hover {background-color: #d4ebff;}#sk-container-id-3 div.sk-parallel-item::after {content: \"\";width: 100%;border-bottom: 1px solid gray;flex-grow: 1;}#sk-container-id-3 div.sk-label:hover label.sk-toggleable__label {background-color: #d4ebff;}#sk-container-id-3 div.sk-serial::before {content: \"\";position: absolute;border-left: 1px solid gray;box-sizing: border-box;top: 0;bottom: 0;left: 50%;z-index: 0;}#sk-container-id-3 div.sk-serial {display: flex;flex-direction: column;align-items: center;background-color: white;padding-right: 0.2em;padding-left: 0.2em;position: relative;}#sk-container-id-3 div.sk-item {position: relative;z-index: 1;}#sk-container-id-3 div.sk-parallel {display: flex;align-items: stretch;justify-content: center;background-color: white;position: relative;}#sk-container-id-3 div.sk-item::before, #sk-container-id-3 div.sk-parallel-item::before {content: \"\";position: absolute;border-left: 1px solid gray;box-sizing: border-box;top: 0;bottom: 0;left: 50%;z-index: -1;}#sk-container-id-3 div.sk-parallel-item {display: flex;flex-direction: column;z-index: 1;position: relative;background-color: white;}#sk-container-id-3 div.sk-parallel-item:first-child::after {align-self: flex-end;width: 50%;}#sk-container-id-3 div.sk-parallel-item:last-child::after {align-self: flex-start;width: 50%;}#sk-container-id-3 div.sk-parallel-item:only-child::after {width: 0;}#sk-container-id-3 div.sk-dashed-wrapped {border: 1px dashed gray;margin: 0 0.4em 0.5em 0.4em;box-sizing: border-box;padding-bottom: 0.4em;background-color: white;}#sk-container-id-3 div.sk-label label {font-family: monospace;font-weight: bold;display: inline-block;line-height: 1.2em;}#sk-container-id-3 div.sk-label-container {text-align: center;}#sk-container-id-3 div.sk-container {/* jupyter's `normalize.less` sets `[hidden] { display: none; }` but bootstrap.min.css set `[hidden] { display: none !important; }` so we also need the `!important` here to be able to override the default hidden behavior on the sphinx rendered scikit-learn.org. See: https://github.com/scikit-learn/scikit-learn/issues/21755 */display: inline-block !important;position: relative;}#sk-container-id-3 div.sk-text-repr-fallback {display: none;}</style><div id=\"sk-container-id-3\" class=\"sk-top-container\"><div class=\"sk-text-repr-fallback\"><pre>Pipeline(steps=[(&#x27;scaler&#x27;, StandardScaler()),\n",
       "                (&#x27;cluster&#x27;, KMeans(n_clusters=5, n_init=&#x27;auto&#x27;))])</pre><b>In a Jupyter environment, please rerun this cell to show the HTML representation or trust the notebook. <br />On GitHub, the HTML representation is unable to render, please try loading this page with nbviewer.org.</b></div><div class=\"sk-container\" hidden><div class=\"sk-item sk-dashed-wrapped\"><div class=\"sk-label-container\"><div class=\"sk-label sk-toggleable\"><input class=\"sk-toggleable__control sk-hidden--visually\" id=\"sk-estimator-id-7\" type=\"checkbox\" ><label for=\"sk-estimator-id-7\" class=\"sk-toggleable__label sk-toggleable__label-arrow\">Pipeline</label><div class=\"sk-toggleable__content\"><pre>Pipeline(steps=[(&#x27;scaler&#x27;, StandardScaler()),\n",
       "                (&#x27;cluster&#x27;, KMeans(n_clusters=5, n_init=&#x27;auto&#x27;))])</pre></div></div></div><div class=\"sk-serial\"><div class=\"sk-item\"><div class=\"sk-estimator sk-toggleable\"><input class=\"sk-toggleable__control sk-hidden--visually\" id=\"sk-estimator-id-8\" type=\"checkbox\" ><label for=\"sk-estimator-id-8\" class=\"sk-toggleable__label sk-toggleable__label-arrow\">StandardScaler</label><div class=\"sk-toggleable__content\"><pre>StandardScaler()</pre></div></div></div><div class=\"sk-item\"><div class=\"sk-estimator sk-toggleable\"><input class=\"sk-toggleable__control sk-hidden--visually\" id=\"sk-estimator-id-9\" type=\"checkbox\" ><label for=\"sk-estimator-id-9\" class=\"sk-toggleable__label sk-toggleable__label-arrow\">KMeans</label><div class=\"sk-toggleable__content\"><pre>KMeans(n_clusters=5, n_init=&#x27;auto&#x27;)</pre></div></div></div></div></div></div></div>"
      ],
      "text/plain": [
       "Pipeline(steps=[('scaler', StandardScaler()),\n",
       "                ('cluster', KMeans(n_clusters=5, n_init='auto'))])"
      ]
     },
     "execution_count": 17,
     "metadata": {},
     "output_type": "execute_result"
    }
   ],
   "source": [
    "n_clusters = 5\n",
    "\n",
    "#assign scaler and kmeans cluster to data\n",
    "kmeans3 = Pipeline(\n",
    "    steps = [\n",
    "        ('scaler', StandardScaler()),\n",
    "        ('cluster', KMeans(n_clusters = n_clusters, n_init = 'auto'))\n",
    "    ]\n",
    ")\n",
    "#fit data into pipeline\n",
    "kmeans3.fit(time_point_quantiles)\n",
    "\n",
    "\n"
   ]
  },
  {
   "cell_type": "code",
   "execution_count": 18,
   "id": "895a0d29",
   "metadata": {},
   "outputs": [
    {
     "name": "stdout",
     "output_type": "stream",
     "text": [
      "Cluster 0: 0 points\n",
      "Cluster 1: 4 points\n",
      "Cluster 2: 0 points\n",
      "Cluster 3: 57 points\n"
     ]
    }
   ],
   "source": [
    "#pass info to pipeline\n",
    "cluster_labels3 = kmeans3.named_steps['cluster'].predict(time_point_quantiles)\n",
    "cluster_counts3 = np.bincount(cluster_labels3)\n",
    "\n",
    "for cluster_idx, count in enumerate(cluster_counts3):\n",
    "    print(f\"Cluster {cluster_idx}: {count} points\")"
   ]
  },
  {
   "cell_type": "code",
   "execution_count": null,
   "id": "b14b29fd",
   "metadata": {},
   "outputs": [],
   "source": []
  }
 ],
 "metadata": {
  "kernelspec": {
   "display_name": "Python 3 (ipykernel)",
   "language": "python",
   "name": "python3"
  },
  "language_info": {
   "codemirror_mode": {
    "name": "ipython",
    "version": 3
   },
   "file_extension": ".py",
   "mimetype": "text/x-python",
   "name": "python",
   "nbconvert_exporter": "python",
   "pygments_lexer": "ipython3",
   "version": "3.11.4"
  }
 },
 "nbformat": 4,
 "nbformat_minor": 5
}
