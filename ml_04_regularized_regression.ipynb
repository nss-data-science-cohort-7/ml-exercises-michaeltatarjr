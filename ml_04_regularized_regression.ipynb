{
 "cells": [
  {
   "cell_type": "markdown",
   "id": "3ad410c3",
   "metadata": {},
   "source": [
    "## Machine Learning Exercise 4 - Regularized Regression\n",
    "\n",
    "For this exercise, you'll be attempting to predict the next-to-last ADHERENCE value per trip. \n",
    "\n",
    "Download the prepared dataset from [here](https://drive.google.com/file/d/1Rki8-zZTet8jaWDYwIOnW5EE4-8lYL_q/view?usp=sharing).\n",
    " \n",
    "You've been provided variables containg the HOUR, and DAY_OF_WEEK, STARTING_ADHERENCE, and STARTING_DWELL time.\n",
    "\n",
    "1. Fit a regular, unregularized linear regression model using ROUTE_ABBR, ROUTE_DIRECTION_NAME, OPERATOR, DAY_OF_WEEK, HOUR, STARTING_ADHERENCE, and STARTING_DWELL. How well does this model do? Inspect the coefficients for this model. What do you notice? \n",
    "\n",
    "2. Now, use ridge regression. How well does this model do compared to the regular linear regression model? How do the coefficients compare?\n",
    "\n",
    "3. Finally, try a lasso regression model. Try adjusting the regularization strength (the alpha parameter) to see how it affects the model. Inspect both the performance and the non-zero coefficients."
   ]
  },
  {
   "cell_type": "code",
   "execution_count": 1,
   "id": "f36f3380",
   "metadata": {},
   "outputs": [],
   "source": [
    "import pandas as pd\n",
    "import numpy as np\n",
    "from sklearn.model_selection import train_test_split\n",
    "from sklearn.metrics import r2_score\n",
    "from sklearn.linear_model import LinearRegression, Lasso, RidgeCV\n",
    "from sklearn.pipeline import Pipeline\n",
    "from sklearn.compose import ColumnTransformer\n",
    "from sklearn.preprocessing import OneHotEncoder, StandardScaler"
   ]
  },
  {
   "cell_type": "code",
   "execution_count": 2,
   "id": "12f6ac45",
   "metadata": {},
   "outputs": [],
   "source": [
    "wego_reg = pd.read_csv('../data/wego_regularization.csv')"
   ]
  },
  {
   "cell_type": "code",
   "execution_count": 9,
   "id": "4911c650",
   "metadata": {},
   "outputs": [
    {
     "name": "stdout",
     "output_type": "stream",
     "text": [
      "<class 'pandas.core.frame.DataFrame'>\n",
      "RangeIndex: 62760 entries, 0 to 62759\n",
      "Data columns (total 38 columns):\n",
      " #   Column                     Non-Null Count  Dtype  \n",
      "---  ------                     --------------  -----  \n",
      " 0   CALENDAR_ID                62760 non-null  int64  \n",
      " 1   SERVICE_ABBR               62760 non-null  int64  \n",
      " 2   ADHERENCE_ID               62760 non-null  int64  \n",
      " 3   DATE                       62760 non-null  object \n",
      " 4   ROUTE_ABBR                 62760 non-null  int64  \n",
      " 5   BLOCK_ABBR                 62760 non-null  int64  \n",
      " 6   OPERATOR                   62760 non-null  int64  \n",
      " 7   TRIP_ID                    62760 non-null  int64  \n",
      " 8   OVERLOAD_ID                62760 non-null  int64  \n",
      " 9   ROUTE_DIRECTION_NAME       62760 non-null  object \n",
      " 10  TIME_POINT_ABBR            62760 non-null  object \n",
      " 11  ROUTE_STOP_SEQUENCE        62760 non-null  float64\n",
      " 12  TRIP_EDGE                  62760 non-null  int64  \n",
      " 13  LATITUDE                   62760 non-null  float64\n",
      " 14  LONGITUDE                  62760 non-null  float64\n",
      " 15  SCHEDULED_TIME             62760 non-null  object \n",
      " 16  ACTUAL_ARRIVAL_TIME        62760 non-null  object \n",
      " 17  ACTUAL_DEPARTURE_TIME      62760 non-null  object \n",
      " 18  ADHERENCE                  62760 non-null  float64\n",
      " 19  SCHEDULED_HDWY             62760 non-null  float64\n",
      " 20  ACTUAL_HDWY                62760 non-null  float64\n",
      " 21  HDWY_DEV                   62760 non-null  float64\n",
      " 22  ADJUSTED_EARLY_COUNT       62760 non-null  int64  \n",
      " 23  ADJUSTED_LATE_COUNT        62760 non-null  int64  \n",
      " 24  ADJUSTED_ONTIME_COUNT      62760 non-null  int64  \n",
      " 25  STOP_CANCELLED             62760 non-null  int64  \n",
      " 26  PREV_SCHED_STOP_CANCELLED  62760 non-null  float64\n",
      " 27  IS_RELIEF                  62760 non-null  int64  \n",
      " 28  BLOCK_STOP_ORDER           62760 non-null  int64  \n",
      " 29  DWELL_IN_MINS              62760 non-null  float64\n",
      " 30  NextDay_Scheduled          62760 non-null  int64  \n",
      " 31  NextDay_Actual_Arrival     62760 non-null  int64  \n",
      " 32  NextDay_Actual_Departure   62760 non-null  int64  \n",
      " 33  ID                         62760 non-null  object \n",
      " 34  HOUR                       62760 non-null  int64  \n",
      " 35  DAY_OF_WEEK                62760 non-null  object \n",
      " 36  STARTING_ADHERENCE         62760 non-null  float64\n",
      " 37  STARTING_DWELL             62760 non-null  float64\n",
      "dtypes: float64(11), int64(19), object(8)\n",
      "memory usage: 18.2+ MB\n"
     ]
    }
   ],
   "source": [
    "wego_reg.info()"
   ]
  },
  {
   "cell_type": "code",
   "execution_count": 41,
   "id": "7e9ca24d",
   "metadata": {},
   "outputs": [],
   "source": [
    "predictors = ['ROUTE_ABBR', 'ROUTE_DIRECTION_NAME', 'OPERATOR', 'DAY_OF_WEEK', 'HOUR', \n",
    "        'STARTING_ADHERENCE', 'STARTING_DWELL']\n",
    "\n",
    "categorical_predictors = ['ROUTE_ABBR', 'ROUTE_DIRECTION_NAME', 'OPERATOR', 'DAY_OF_WEEK', 'HOUR']\n",
    "\n",
    "X = wego_reg[predictors]\n",
    "X = pd.get_dummies(X, columns = categorical_predictors)\n",
    "y = wego_reg['ADHERENCE']\n"
   ]
  },
  {
   "cell_type": "code",
   "execution_count": 42,
   "id": "56b4c415",
   "metadata": {},
   "outputs": [],
   "source": [
    "X_train, X_test, y_train, y_test = train_test_split(X, y, random_state = 42)"
   ]
  },
  {
   "cell_type": "code",
   "execution_count": 43,
   "id": "ba2ef1e7",
   "metadata": {},
   "outputs": [
    {
     "data": {
      "text/html": [
       "<style>#sk-container-id-3 {color: black;}#sk-container-id-3 pre{padding: 0;}#sk-container-id-3 div.sk-toggleable {background-color: white;}#sk-container-id-3 label.sk-toggleable__label {cursor: pointer;display: block;width: 100%;margin-bottom: 0;padding: 0.3em;box-sizing: border-box;text-align: center;}#sk-container-id-3 label.sk-toggleable__label-arrow:before {content: \"▸\";float: left;margin-right: 0.25em;color: #696969;}#sk-container-id-3 label.sk-toggleable__label-arrow:hover:before {color: black;}#sk-container-id-3 div.sk-estimator:hover label.sk-toggleable__label-arrow:before {color: black;}#sk-container-id-3 div.sk-toggleable__content {max-height: 0;max-width: 0;overflow: hidden;text-align: left;background-color: #f0f8ff;}#sk-container-id-3 div.sk-toggleable__content pre {margin: 0.2em;color: black;border-radius: 0.25em;background-color: #f0f8ff;}#sk-container-id-3 input.sk-toggleable__control:checked~div.sk-toggleable__content {max-height: 200px;max-width: 100%;overflow: auto;}#sk-container-id-3 input.sk-toggleable__control:checked~label.sk-toggleable__label-arrow:before {content: \"▾\";}#sk-container-id-3 div.sk-estimator input.sk-toggleable__control:checked~label.sk-toggleable__label {background-color: #d4ebff;}#sk-container-id-3 div.sk-label input.sk-toggleable__control:checked~label.sk-toggleable__label {background-color: #d4ebff;}#sk-container-id-3 input.sk-hidden--visually {border: 0;clip: rect(1px 1px 1px 1px);clip: rect(1px, 1px, 1px, 1px);height: 1px;margin: -1px;overflow: hidden;padding: 0;position: absolute;width: 1px;}#sk-container-id-3 div.sk-estimator {font-family: monospace;background-color: #f0f8ff;border: 1px dotted black;border-radius: 0.25em;box-sizing: border-box;margin-bottom: 0.5em;}#sk-container-id-3 div.sk-estimator:hover {background-color: #d4ebff;}#sk-container-id-3 div.sk-parallel-item::after {content: \"\";width: 100%;border-bottom: 1px solid gray;flex-grow: 1;}#sk-container-id-3 div.sk-label:hover label.sk-toggleable__label {background-color: #d4ebff;}#sk-container-id-3 div.sk-serial::before {content: \"\";position: absolute;border-left: 1px solid gray;box-sizing: border-box;top: 0;bottom: 0;left: 50%;z-index: 0;}#sk-container-id-3 div.sk-serial {display: flex;flex-direction: column;align-items: center;background-color: white;padding-right: 0.2em;padding-left: 0.2em;position: relative;}#sk-container-id-3 div.sk-item {position: relative;z-index: 1;}#sk-container-id-3 div.sk-parallel {display: flex;align-items: stretch;justify-content: center;background-color: white;position: relative;}#sk-container-id-3 div.sk-item::before, #sk-container-id-3 div.sk-parallel-item::before {content: \"\";position: absolute;border-left: 1px solid gray;box-sizing: border-box;top: 0;bottom: 0;left: 50%;z-index: -1;}#sk-container-id-3 div.sk-parallel-item {display: flex;flex-direction: column;z-index: 1;position: relative;background-color: white;}#sk-container-id-3 div.sk-parallel-item:first-child::after {align-self: flex-end;width: 50%;}#sk-container-id-3 div.sk-parallel-item:last-child::after {align-self: flex-start;width: 50%;}#sk-container-id-3 div.sk-parallel-item:only-child::after {width: 0;}#sk-container-id-3 div.sk-dashed-wrapped {border: 1px dashed gray;margin: 0 0.4em 0.5em 0.4em;box-sizing: border-box;padding-bottom: 0.4em;background-color: white;}#sk-container-id-3 div.sk-label label {font-family: monospace;font-weight: bold;display: inline-block;line-height: 1.2em;}#sk-container-id-3 div.sk-label-container {text-align: center;}#sk-container-id-3 div.sk-container {/* jupyter's `normalize.less` sets `[hidden] { display: none; }` but bootstrap.min.css set `[hidden] { display: none !important; }` so we also need the `!important` here to be able to override the default hidden behavior on the sphinx rendered scikit-learn.org. See: https://github.com/scikit-learn/scikit-learn/issues/21755 */display: inline-block !important;position: relative;}#sk-container-id-3 div.sk-text-repr-fallback {display: none;}</style><div id=\"sk-container-id-3\" class=\"sk-top-container\"><div class=\"sk-text-repr-fallback\"><pre>LinearRegression()</pre><b>In a Jupyter environment, please rerun this cell to show the HTML representation or trust the notebook. <br />On GitHub, the HTML representation is unable to render, please try loading this page with nbviewer.org.</b></div><div class=\"sk-container\" hidden><div class=\"sk-item\"><div class=\"sk-estimator sk-toggleable\"><input class=\"sk-toggleable__control sk-hidden--visually\" id=\"sk-estimator-id-3\" type=\"checkbox\" checked><label for=\"sk-estimator-id-3\" class=\"sk-toggleable__label sk-toggleable__label-arrow\">LinearRegression</label><div class=\"sk-toggleable__content\"><pre>LinearRegression()</pre></div></div></div></div></div>"
      ],
      "text/plain": [
       "LinearRegression()"
      ]
     },
     "execution_count": 43,
     "metadata": {},
     "output_type": "execute_result"
    }
   ],
   "source": [
    "linreg = LinearRegression()\n",
    "linreg.fit(X_train, y_train)"
   ]
  },
  {
   "cell_type": "code",
   "execution_count": 44,
   "id": "6afbaadd",
   "metadata": {},
   "outputs": [
    {
     "data": {
      "text/plain": [
       "array([-4.96832275, -1.56323242, -6.03112793, ..., -2.86590576,\n",
       "       -4.08575439, -9.90179443])"
      ]
     },
     "execution_count": 44,
     "metadata": {},
     "output_type": "execute_result"
    }
   ],
   "source": [
    "y_pred = linreg.predict(X_test)\n",
    "y_pred"
   ]
  },
  {
   "cell_type": "code",
   "execution_count": 45,
   "id": "8ca41b7d",
   "metadata": {},
   "outputs": [
    {
     "data": {
      "text/plain": [
       "-320296704671.1143"
      ]
     },
     "execution_count": 45,
     "metadata": {},
     "output_type": "execute_result"
    }
   ],
   "source": [
    "linreg.intercept_"
   ]
  },
  {
   "cell_type": "code",
   "execution_count": 46,
   "id": "ff7ffc08",
   "metadata": {},
   "outputs": [
    {
     "data": {
      "text/plain": [
       "array([ 8.16908355e-01,  5.80034141e-02,  1.79608548e+11,  1.79608548e+11,\n",
       "        1.79608548e+11,  1.79608548e+11,  1.79608548e+11,  1.79608548e+11,\n",
       "        1.79608548e+11,  1.79608548e+11,  2.01079817e+11,  2.01079817e+11,\n",
       "        9.14512394e+08,  9.14512392e+08,  9.14512394e+08,  9.14512390e+08,\n",
       "        9.14512392e+08,  9.14512393e+08,  9.14512391e+08,  9.14512392e+08,\n",
       "        9.14512391e+08,  9.14512391e+08,  9.14512393e+08,  9.14512393e+08,\n",
       "        9.14512392e+08,  9.14512392e+08,  9.14512394e+08,  9.14512392e+08,\n",
       "        9.14512391e+08,  9.14512392e+08,  9.14512393e+08,  9.14512393e+08,\n",
       "        9.14512393e+08,  9.14512392e+08,  9.14512394e+08,  9.14512392e+08,\n",
       "        9.14512394e+08,  9.14512394e+08,  9.14512393e+08,  9.14512393e+08,\n",
       "        9.14512392e+08,  9.14512394e+08,  9.14512393e+08,  9.14512393e+08,\n",
       "        9.14512390e+08,  9.14512392e+08,  9.14512394e+08,  9.14512395e+08,\n",
       "        9.14512392e+08,  9.14512393e+08,  9.14512393e+08,  9.14512393e+08,\n",
       "        9.14512392e+08,  9.14512391e+08,  9.14512392e+08,  9.14512394e+08,\n",
       "        9.14512392e+08,  9.14512392e+08,  9.14512392e+08,  9.14512392e+08,\n",
       "        9.14512391e+08,  9.14512392e+08,  9.14512392e+08,  9.14512394e+08,\n",
       "        9.14512389e+08,  9.14512393e+08,  9.14512395e+08,  9.14512392e+08,\n",
       "        9.14512393e+08,  9.14512392e+08,  9.14512392e+08,  9.14512392e+08,\n",
       "        9.14512397e+08,  9.14512393e+08,  9.14512393e+08,  9.14512391e+08,\n",
       "        9.14512392e+08,  9.14512393e+08,  9.14512393e+08,  9.14512394e+08,\n",
       "        9.14512394e+08,  9.14512392e+08,  9.14512393e+08,  9.14512391e+08,\n",
       "        9.14512392e+08,  9.14512393e+08,  9.14512392e+08,  9.14512392e+08,\n",
       "        9.14512392e+08,  9.14512389e+08,  9.14512393e+08,  9.14512394e+08,\n",
       "        9.14512394e+08,  9.14512395e+08,  9.14512398e+08,  9.14512393e+08,\n",
       "        9.14512393e+08,  9.14512392e+08,  9.14512390e+08,  9.14512391e+08,\n",
       "        9.14512390e+08,  9.14512392e+08,  9.14512394e+08,  9.14512392e+08,\n",
       "        9.14512395e+08,  9.14512393e+08,  9.14512395e+08,  9.14512394e+08,\n",
       "        9.14512394e+08,  9.14512393e+08,  9.14512393e+08,  9.14512394e+08,\n",
       "        9.14512394e+08,  9.14512393e+08,  9.14512393e+08,  9.14512394e+08,\n",
       "        9.14512392e+08,  9.14512393e+08,  9.14512392e+08,  9.14512393e+08,\n",
       "        9.14512391e+08,  9.14512391e+08,  9.14512392e+08,  9.14512394e+08,\n",
       "        9.14512393e+08,  9.14512390e+08,  9.14512392e+08,  9.14512390e+08,\n",
       "        9.14512393e+08,  9.14512394e+08,  9.14512392e+08,  9.14512394e+08,\n",
       "        9.14512394e+08,  9.14512391e+08,  9.14512393e+08,  9.14512393e+08,\n",
       "        9.14512389e+08,  9.14512392e+08,  9.14512393e+08,  9.14512389e+08,\n",
       "        9.14512392e+08,  9.14512394e+08,  9.14512393e+08,  9.14512391e+08,\n",
       "        9.14512391e+08,  9.14512391e+08,  9.14512393e+08,  9.14512391e+08,\n",
       "        9.14512390e+08,  9.14512391e+08,  9.14512390e+08,  9.14512394e+08,\n",
       "        9.14512393e+08,  9.14512392e+08,  9.14512391e+08,  9.14512393e+08,\n",
       "        9.14512392e+08,  9.14512391e+08,  9.14512393e+08,  9.14512390e+08,\n",
       "        9.14512392e+08,  9.14512393e+08,  9.14512390e+08,  9.14512394e+08,\n",
       "        9.14512392e+08,  9.14512391e+08,  9.14512392e+08,  9.14512385e+08,\n",
       "        9.14512390e+08,  9.14512393e+08,  9.14512392e+08,  9.14512392e+08,\n",
       "        9.14512392e+08,  9.14512390e+08,  9.14512394e+08,  9.14512393e+08,\n",
       "        9.14512392e+08,  9.14512391e+08,  9.14512392e+08,  9.14512394e+08,\n",
       "        9.14512389e+08,  9.14512395e+08,  9.14512393e+08,  9.14512394e+08,\n",
       "        9.14512395e+08,  9.14512393e+08,  9.14512385e+08,  9.14512389e+08,\n",
       "        9.14512392e+08,  9.14512393e+08,  9.14512393e+08,  9.14512392e+08,\n",
       "        9.14512392e+08,  9.14512393e+08,  9.14512395e+08,  9.14512390e+08,\n",
       "        9.14512393e+08,  9.14512393e+08,  9.14512390e+08,  9.14512393e+08,\n",
       "        9.14512391e+08,  9.14512391e+08,  9.14512394e+08,  9.14512393e+08,\n",
       "        9.14512394e+08,  9.14512392e+08,  9.14512400e+08,  9.14512391e+08,\n",
       "        9.14512394e+08,  9.14512389e+08,  9.14512392e+08,  9.14512392e+08,\n",
       "        9.14512393e+08,  9.14512391e+08,  9.14512394e+08,  9.14512393e+08,\n",
       "        9.14512396e+08,  9.14512395e+08,  9.14512392e+08,  9.14512393e+08,\n",
       "        9.14512392e+08,  9.14512392e+08,  9.14512392e+08,  9.14512392e+08,\n",
       "        9.14512393e+08,  9.14512393e+08,  9.14512394e+08,  9.14512394e+08,\n",
       "        9.14512389e+08,  9.14512394e+08,  9.14512392e+08,  9.14512393e+08,\n",
       "        9.14512392e+08,  9.14512392e+08,  9.14512391e+08,  9.14512394e+08,\n",
       "        9.14512392e+08,  9.14512393e+08,  9.14512392e+08,  9.14512390e+08,\n",
       "        9.14512392e+08,  9.14512393e+08,  9.14512389e+08,  9.14512392e+08,\n",
       "        9.14512392e+08,  9.14512393e+08,  9.14512387e+08,  9.14512393e+08,\n",
       "        9.14512394e+08,  9.14512391e+08,  9.14512393e+08,  9.14512392e+08,\n",
       "        9.14512391e+08,  9.14512392e+08,  9.14512390e+08,  9.14512392e+08,\n",
       "        9.14512389e+08,  9.14512387e+08,  9.14512392e+08,  9.14512394e+08,\n",
       "        9.14512392e+08,  9.14512394e+08,  9.14512390e+08,  9.14512393e+08,\n",
       "        9.14512392e+08,  9.14512393e+08,  9.14512390e+08,  9.14512390e+08,\n",
       "        9.14512390e+08,  9.14512392e+08,  9.14512392e+08,  9.14512391e+08,\n",
       "        9.14512392e+08,  9.14512391e+08,  9.14512393e+08,  9.14512392e+08,\n",
       "        9.14512392e+08,  9.14512389e+08,  9.14512391e+08,  9.14512390e+08,\n",
       "        9.14512390e+08,  9.14512390e+08,  9.14512391e+08,  9.14512391e+08,\n",
       "        9.14512393e+08,  9.14512392e+08,  9.14512392e+08,  9.14512392e+08,\n",
       "        9.14512390e+08,  9.14512392e+08,  9.14512392e+08,  9.14512391e+08,\n",
       "        9.14512390e+08,  9.14512392e+08,  9.14512393e+08,  9.14512391e+08,\n",
       "        9.14512393e+08,  9.14512391e+08,  9.14512382e+08,  9.14512391e+08,\n",
       "        9.14512393e+08,  9.14512393e+08,  9.14512392e+08,  9.14512391e+08,\n",
       "        9.14512390e+08,  9.14512391e+08,  9.14512391e+08,  9.14512391e+08,\n",
       "        9.14512392e+08,  9.14512391e+08,  9.14512389e+08,  9.14512390e+08,\n",
       "        9.14512389e+08,  9.14512393e+08,  9.14512390e+08,  9.14512390e+08,\n",
       "        9.14512391e+08,  9.14512390e+08,  9.14512390e+08,  9.14512389e+08,\n",
       "        9.14512394e+08,  9.14512392e+08,  9.14512390e+08,  9.14512394e+08,\n",
       "        9.14512391e+08,  9.14512392e+08,  9.14512391e+08,  9.14512390e+08,\n",
       "        9.14512390e+08,  9.14512393e+08,  9.14512392e+08,  9.14512391e+08,\n",
       "        9.14512391e+08,  9.14512393e+08,  9.14512390e+08,  9.14512394e+08,\n",
       "        9.14512390e+08,  9.14512391e+08,  9.14512392e+08,  9.14512391e+08,\n",
       "        9.14512391e+08,  9.14512390e+08,  9.14512393e+08,  9.14512393e+08,\n",
       "       -5.50591477e+10, -5.50591477e+10, -5.50591477e+10, -5.50591477e+10,\n",
       "       -5.50591477e+10, -5.50591477e+10, -5.50591477e+10, -6.24702489e+09,\n",
       "       -6.24702488e+09, -6.24702489e+09, -6.24702489e+09, -6.24702489e+09,\n",
       "       -6.24702489e+09, -6.24702489e+09, -6.24702489e+09, -6.24702489e+09,\n",
       "       -6.24702489e+09, -6.24702489e+09, -6.24702489e+09, -6.24702489e+09,\n",
       "       -6.24702489e+09, -6.24702489e+09, -6.24702489e+09, -6.24702489e+09,\n",
       "       -6.24702489e+09, -6.24702489e+09, -6.24702489e+09, -6.24702489e+09,\n",
       "       -6.24702489e+09])"
      ]
     },
     "execution_count": 46,
     "metadata": {},
     "output_type": "execute_result"
    }
   ],
   "source": [
    "linreg.coef_"
   ]
  },
  {
   "cell_type": "code",
   "execution_count": 47,
   "id": "8251e091",
   "metadata": {},
   "outputs": [],
   "source": [
    "from sklearn.metrics import mean_squared_error, mean_absolute_error, r2_score"
   ]
  },
  {
   "cell_type": "code",
   "execution_count": 48,
   "id": "e20987a8",
   "metadata": {},
   "outputs": [
    {
     "data": {
      "text/plain": [
       "19.825067819352572"
      ]
     },
     "execution_count": 48,
     "metadata": {},
     "output_type": "execute_result"
    }
   ],
   "source": [
    "mean_squared_error(y_test, y_pred)"
   ]
  },
  {
   "cell_type": "code",
   "execution_count": 49,
   "id": "b5597f66",
   "metadata": {},
   "outputs": [
    {
     "data": {
      "text/plain": [
       "2.735623889851219"
      ]
     },
     "execution_count": 49,
     "metadata": {},
     "output_type": "execute_result"
    }
   ],
   "source": [
    "mean_absolute_error(y_test, y_pred)"
   ]
  },
  {
   "cell_type": "code",
   "execution_count": 50,
   "id": "db135fc5",
   "metadata": {},
   "outputs": [
    {
     "data": {
      "text/plain": [
       "0.38907184385559135"
      ]
     },
     "execution_count": 50,
     "metadata": {},
     "output_type": "execute_result"
    }
   ],
   "source": [
    "r2_score(y_test, y_pred)"
   ]
  },
  {
   "cell_type": "markdown",
   "id": "79efafe2",
   "metadata": {},
   "source": [
    "Now, use ridge regression. How well does this model do compared to the regular linear regression model? How do the coefficients compare?"
   ]
  },
  {
   "cell_type": "code",
   "execution_count": 51,
   "id": "cff0db2b",
   "metadata": {},
   "outputs": [],
   "source": [
    "from sklearn.linear_model import Ridge"
   ]
  },
  {
   "cell_type": "code",
   "execution_count": 54,
   "id": "a38d9b0f",
   "metadata": {},
   "outputs": [],
   "source": [
    "predictors = ['ROUTE_ABBR', 'ROUTE_DIRECTION_NAME', 'OPERATOR', 'DAY_OF_WEEK', 'HOUR', \n",
    "        'STARTING_ADHERENCE', 'STARTING_DWELL']\n",
    "\n",
    "categorical_predictors = ['ROUTE_ABBR', 'ROUTE_DIRECTION_NAME', 'OPERATOR', 'DAY_OF_WEEK', 'HOUR']\n",
    "\n",
    "X = wego_reg[predictors]\n",
    "X = pd.get_dummies(X, columns = categorical_predictors)\n",
    "y = wego_reg['ADHERENCE']"
   ]
  },
  {
   "cell_type": "code",
   "execution_count": 55,
   "id": "d4263af7",
   "metadata": {},
   "outputs": [],
   "source": [
    "X2_train, X2_test, y2_train, y2_test = train_test_split(X, y, random_state = 42)"
   ]
  },
  {
   "cell_type": "code",
   "execution_count": 56,
   "id": "93ed08cb",
   "metadata": {},
   "outputs": [
    {
     "name": "stdout",
     "output_type": "stream",
     "text": [
      "[0.3890647526651544, 0.38897668448261413, 0.3882114241157334, 0.38105782256512954, 0.35532068259807703, 0.3233986294153153]\n"
     ]
    }
   ],
   "source": [
    "alphas = [0.1, 1.0, 10.0, 100.0, 1000.0, 10000.0]\n",
    "ridge_scores = []\n",
    "for alpha in alphas:\n",
    "  \n",
    "  # Create a Ridge regression model\n",
    "  ridge = Ridge(alpha=alpha)\n",
    "  \n",
    "  # Fit the data\n",
    "  ridge.fit(X_train, y_train)\n",
    "  \n",
    "  # Obtain R-squared\n",
    "  score = ridge.score(X2_test, y2_test)\n",
    "  ridge_scores.append(score)\n",
    "print(ridge_scores)"
   ]
  },
  {
   "cell_type": "code",
   "execution_count": 57,
   "id": "a38a3a6a",
   "metadata": {},
   "outputs": [
    {
     "name": "stdout",
     "output_type": "stream",
     "text": [
      "Ridge R2 Score: 0.3233986294153153\n"
     ]
    }
   ],
   "source": [
    "print(f'Ridge R2 Score: {r2_score(y_test, ridge.predict(X2_test))}')"
   ]
  },
  {
   "cell_type": "code",
   "execution_count": 58,
   "id": "95728719",
   "metadata": {},
   "outputs": [
    {
     "data": {
      "text/plain": [
       "19.825067819352572"
      ]
     },
     "execution_count": 58,
     "metadata": {},
     "output_type": "execute_result"
    }
   ],
   "source": [
    "mean_squared_error(y2_test, y_pred)"
   ]
  },
  {
   "cell_type": "code",
   "execution_count": null,
   "id": "3c7e5efb",
   "metadata": {},
   "outputs": [],
   "source": []
  }
 ],
 "metadata": {
  "kernelspec": {
   "display_name": "Python 3 (ipykernel)",
   "language": "python",
   "name": "python3"
  },
  "language_info": {
   "codemirror_mode": {
    "name": "ipython",
    "version": 3
   },
   "file_extension": ".py",
   "mimetype": "text/x-python",
   "name": "python",
   "nbconvert_exporter": "python",
   "pygments_lexer": "ipython3",
   "version": "3.11.4"
  }
 },
 "nbformat": 4,
 "nbformat_minor": 5
}
